{
 "cells": [
  {
   "cell_type": "markdown",
   "id": "3e4b2450",
   "metadata": {},
   "source": [
    "## Download files using EarthPy\n",
    "You can use the function **data.get_data()** from the earthpy package to download data from online sources."
   ]
  },
  {
   "cell_type": "code",
   "execution_count": 1,
   "id": "de3dd7d2",
   "metadata": {},
   "outputs": [],
   "source": [
    "import os\n",
    "from glob import glob\n",
    "\n",
    "import earthpy as et"
   ]
  },
  {
   "cell_type": "code",
   "execution_count": 2,
   "id": "d64dff67",
   "metadata": {
    "scrolled": true
   },
   "outputs": [
    {
     "name": "stdout",
     "output_type": "stream",
     "text": [
      "Downloading from https://ndownloader.figshare.com/files/21894528\n",
      "Extracted output to C:\\Users\\user\\earth-analytics\\data\\earthpy-downloads\\avg-monthly-temp-fahr\n"
     ]
    },
    {
     "data": {
      "text/plain": [
       "'C:\\\\Users\\\\user\\\\earth-analytics\\\\data\\\\earthpy-downloads\\\\avg-monthly-temp-fahr'"
      ]
     },
     "execution_count": 2,
     "metadata": {},
     "output_type": "execute_result"
    }
   ],
   "source": [
    "file_url = \"https://ndownloader.figshare.com/files/21894528\"\n",
    "et.data.get_data (url = file_url)"
   ]
  },
  {
   "cell_type": "markdown",
   "id": "0a5e1a6e",
   "metadata": {},
   "source": [
    "By default, **et.data.get_data()** will download files to earth-analytics/data/earthpy-downloads under your home directory, and it will create the necessary directories if they do not already exist."
   ]
  },
  {
   "cell_type": "code",
   "execution_count": 72,
   "id": "94b06458",
   "metadata": {},
   "outputs": [],
   "source": [
    "# Set work directory to earth-analytics\n",
    "os.chdir(os.path.join(et.io.HOME, 'earth-analytics'))\n",
    "\n",
    "# Creat a path to the data folder\n",
    "data_folder = os.path.join('data\\\\earthpy-downloads\\\\avg-monthly-temp-fahr')"
   ]
  },
  {
   "cell_type": "code",
   "execution_count": 18,
   "id": "cd022d05",
   "metadata": {},
   "outputs": [
    {
     "data": {
      "text/plain": [
       "'C:\\\\Users\\\\user\\\\earth-analytics'"
      ]
     },
     "execution_count": 18,
     "metadata": {},
     "output_type": "execute_result"
    }
   ],
   "source": [
    "os.getcwd()"
   ]
  },
  {
   "cell_type": "code",
   "execution_count": 10,
   "id": "87cd51e2",
   "metadata": {},
   "outputs": [],
   "source": [
    "data_folder_D = os.path.join('C:/Users/user/Documents/Program Language/Python/earth-analytics')"
   ]
  },
  {
   "cell_type": "markdown",
   "id": "01d28c99",
   "metadata": {},
   "source": [
    "## Glob in Python\n",
    "glob is a powerful tool in Python to help with file management and filtering. While os helps manage and create specific paths that are friendly to whatever machine they are used on, glob helps to filter through large datasets and pull out only files that are of interest."
   ]
  },
  {
   "cell_type": "code",
   "execution_count": 11,
   "id": "aadb6d0c",
   "metadata": {},
   "outputs": [
    {
     "data": {
      "text/plain": [
       "['data\\\\earthpy-downloads\\\\avg-monthly-temp-fahr']"
      ]
     },
     "execution_count": 11,
     "metadata": {},
     "output_type": "execute_result"
    }
   ],
   "source": [
    "file_list = glob(data_folder)\n",
    "file_list"
   ]
  },
  {
   "cell_type": "code",
   "execution_count": 12,
   "id": "036b21fe",
   "metadata": {},
   "outputs": [
    {
     "data": {
      "text/plain": [
       "['C:/Users/user/Documents/Program Language/Python/earth-analytics']"
      ]
     },
     "execution_count": 12,
     "metadata": {},
     "output_type": "execute_result"
    }
   ],
   "source": [
    "file_list_D = glob(data_folder_D)\n",
    "file_list_D"
   ]
  },
  {
   "cell_type": "code",
   "execution_count": 19,
   "id": "bdbd45e1",
   "metadata": {},
   "outputs": [
    {
     "data": {
      "text/plain": [
       "['data/earthpy-downloads/avg-monthly-temp-fahr\\\\San-Diego\\\\San-Diego-1999-temp.csv']"
      ]
     },
     "execution_count": 19,
     "metadata": {},
     "output_type": "execute_result"
    }
   ],
   "source": [
    "# Create a list containing a specific file name\n",
    "glob(os.path.join(data_folder, 'San-Diego', 'San-Diego-1999-temp.csv'))"
   ]
  },
  {
   "cell_type": "code",
   "execution_count": 20,
   "id": "324c04c4",
   "metadata": {},
   "outputs": [
    {
     "data": {
      "text/plain": [
       "['data/earthpy-downloads/avg-monthly-temp-fahr/San-Diego/San-Diego-1999-temp.csv']"
      ]
     },
     "execution_count": 20,
     "metadata": {},
     "output_type": "execute_result"
    }
   ],
   "source": [
    "# (Method 2) Create a list containing a specific file name\n",
    "glob(os.path.join(data_folder + '/San-Diego/San-Diego-1999-temp.csv'))"
   ]
  },
  {
   "cell_type": "markdown",
   "id": "49d86565",
   "metadata": {},
   "source": [
    "### * Operator\n",
    "The * is a sort of wildcard that can be used to search for items that have differences in their names. Whatever text doesn’t match can be replaced by a *."
   ]
  },
  {
   "cell_type": "code",
   "execution_count": 25,
   "id": "533c1ed1",
   "metadata": {
    "scrolled": false
   },
   "outputs": [
    {
     "data": {
      "text/plain": [
       "['data/earthpy-downloads/avg-monthly-temp-fahr\\\\San-Diego',\n",
       " 'data/earthpy-downloads/avg-monthly-temp-fahr\\\\Sonoma']"
      ]
     },
     "execution_count": 25,
     "metadata": {},
     "output_type": "execute_result"
    }
   ],
   "source": [
    "# Get a list of all files/dirs in data folder\n",
    "glob(os.path.join(data_folder , '*'))"
   ]
  },
  {
   "cell_type": "code",
   "execution_count": 30,
   "id": "623d68f2",
   "metadata": {
    "scrolled": false
   },
   "outputs": [
    {
     "data": {
      "text/plain": [
       "['data/earthpy-downloads/avg-monthly-temp-fahr\\\\San-Diego',\n",
       " 'data/earthpy-downloads/avg-monthly-temp-fahr\\\\Sonoma']"
      ]
     },
     "execution_count": 30,
     "metadata": {},
     "output_type": "execute_result"
    }
   ],
   "source": [
    "glob(os.path.join(data_folder + '/*'))"
   ]
  },
  {
   "cell_type": "code",
   "execution_count": 28,
   "id": "df2fd217",
   "metadata": {
    "scrolled": false
   },
   "outputs": [
    {
     "data": {
      "text/plain": [
       "['data/earthpy-downloads/avg-monthly-temp-fahr\\\\San-Diego\\\\San-Diego-1999-temp.csv',\n",
       " 'data/earthpy-downloads/avg-monthly-temp-fahr\\\\San-Diego\\\\San-Diego-2000-temp.csv',\n",
       " 'data/earthpy-downloads/avg-monthly-temp-fahr\\\\San-Diego\\\\San-Diego-2001-temp.csv',\n",
       " 'data/earthpy-downloads/avg-monthly-temp-fahr\\\\San-Diego\\\\San-Diego-2002-temp.csv',\n",
       " 'data/earthpy-downloads/avg-monthly-temp-fahr\\\\San-Diego\\\\San-Diego-2003-temp.csv']"
      ]
     },
     "execution_count": 28,
     "metadata": {},
     "output_type": "execute_result"
    }
   ],
   "source": [
    "glob(os.path.join(data_folder, 'San-Diego', '*'))"
   ]
  },
  {
   "cell_type": "code",
   "execution_count": 29,
   "id": "09657f6e",
   "metadata": {
    "scrolled": true
   },
   "outputs": [
    {
     "data": {
      "text/plain": [
       "['data/earthpy-downloads/avg-monthly-temp-fahr/San-Diego\\\\San-Diego-1999-temp.csv',\n",
       " 'data/earthpy-downloads/avg-monthly-temp-fahr/San-Diego\\\\San-Diego-2000-temp.csv',\n",
       " 'data/earthpy-downloads/avg-monthly-temp-fahr/San-Diego\\\\San-Diego-2001-temp.csv',\n",
       " 'data/earthpy-downloads/avg-monthly-temp-fahr/San-Diego\\\\San-Diego-2002-temp.csv',\n",
       " 'data/earthpy-downloads/avg-monthly-temp-fahr/San-Diego\\\\San-Diego-2003-temp.csv']"
      ]
     },
     "execution_count": 29,
     "metadata": {},
     "output_type": "execute_result"
    }
   ],
   "source": [
    "glob(os.path.join(data_folder + '/San-Diego/*'))"
   ]
  },
  {
   "cell_type": "markdown",
   "id": "df01e0b5",
   "metadata": {},
   "source": [
    "If you only want .csv files, than *.csv will return every file that ends with .csv. If you only want .csv files with the number 2 somewhere in the file name, than *2*.csv will return that list. Note that 2*.csv would only return files that start with the number 2."
   ]
  },
  {
   "cell_type": "code",
   "execution_count": 31,
   "id": "24a118fe",
   "metadata": {
    "scrolled": true
   },
   "outputs": [
    {
     "data": {
      "text/plain": [
       "['data/earthpy-downloads/avg-monthly-temp-fahr/San-Diego\\\\San-Diego-2000-temp.csv',\n",
       " 'data/earthpy-downloads/avg-monthly-temp-fahr/San-Diego\\\\San-Diego-2001-temp.csv',\n",
       " 'data/earthpy-downloads/avg-monthly-temp-fahr/San-Diego\\\\San-Diego-2002-temp.csv',\n",
       " 'data/earthpy-downloads/avg-monthly-temp-fahr/San-Diego\\\\San-Diego-2003-temp.csv']"
      ]
     },
     "execution_count": 31,
     "metadata": {},
     "output_type": "execute_result"
    }
   ],
   "source": [
    "glob(os.path.join(data_folder + '/San-Diego/*2*.csv'))"
   ]
  },
  {
   "cell_type": "markdown",
   "id": "fb115ac2",
   "metadata": {},
   "source": [
    "### Recursive searches\n",
    "If you are trying to operate on files across multiple directories, you can use multiple * in a file path to indicate that you want every file in all folders in a directory."
   ]
  },
  {
   "cell_type": "code",
   "execution_count": 32,
   "id": "f5bf28c3",
   "metadata": {
    "scrolled": true
   },
   "outputs": [
    {
     "data": {
      "text/plain": [
       "['data/earthpy-downloads/avg-monthly-temp-fahr\\\\San-Diego\\\\San-Diego-1999-temp.csv',\n",
       " 'data/earthpy-downloads/avg-monthly-temp-fahr\\\\San-Diego\\\\San-Diego-2000-temp.csv',\n",
       " 'data/earthpy-downloads/avg-monthly-temp-fahr\\\\San-Diego\\\\San-Diego-2001-temp.csv',\n",
       " 'data/earthpy-downloads/avg-monthly-temp-fahr\\\\San-Diego\\\\San-Diego-2002-temp.csv',\n",
       " 'data/earthpy-downloads/avg-monthly-temp-fahr\\\\San-Diego\\\\San-Diego-2003-temp.csv',\n",
       " 'data/earthpy-downloads/avg-monthly-temp-fahr\\\\Sonoma\\\\Sonoma-1999-temp.csv',\n",
       " 'data/earthpy-downloads/avg-monthly-temp-fahr\\\\Sonoma\\\\Sonoma-2000-temp.csv',\n",
       " 'data/earthpy-downloads/avg-monthly-temp-fahr\\\\Sonoma\\\\Sonoma-2001-temp.csv',\n",
       " 'data/earthpy-downloads/avg-monthly-temp-fahr\\\\Sonoma\\\\Sonoma-2002-temp.csv',\n",
       " 'data/earthpy-downloads/avg-monthly-temp-fahr\\\\Sonoma\\\\Sonoma-2003-temp.csv']"
      ]
     },
     "execution_count": 32,
     "metadata": {},
     "output_type": "execute_result"
    }
   ],
   "source": [
    "glob(os.path.join(data_folder + '/*/*'))"
   ]
  },
  {
   "cell_type": "markdown",
   "id": "f937f671",
   "metadata": {},
   "source": [
    "### Sorting glob lists"
   ]
  },
  {
   "cell_type": "code",
   "execution_count": 47,
   "id": "e63077aa",
   "metadata": {},
   "outputs": [
    {
     "data": {
      "text/plain": [
       "['data/earthpy-downloads/avg-monthly-temp-fahr/Sonoma\\\\Sonoma-1999-temp.csv',\n",
       " 'data/earthpy-downloads/avg-monthly-temp-fahr/Sonoma\\\\Sonoma-2000-temp.csv',\n",
       " 'data/earthpy-downloads/avg-monthly-temp-fahr/Sonoma\\\\Sonoma-2001-temp.csv',\n",
       " 'data/earthpy-downloads/avg-monthly-temp-fahr/Sonoma\\\\Sonoma-2002-temp.csv',\n",
       " 'data/earthpy-downloads/avg-monthly-temp-fahr/Sonoma\\\\Sonoma-2003-temp.csv']"
      ]
     },
     "execution_count": 47,
     "metadata": {},
     "output_type": "execute_result"
    }
   ],
   "source": [
    "# Get list of csv files in Sonoma directory\n",
    "sonoma_files = glob(os.path.join(data_folder + '/Sonoma/*.csv'))\n",
    "sonoma_files"
   ]
  },
  {
   "cell_type": "code",
   "execution_count": 51,
   "id": "1fa89fad",
   "metadata": {},
   "outputs": [
    {
     "data": {
      "text/plain": [
       "['data/earthpy-downloads/avg-monthly-temp-fahr/Sonoma\\\\Sonoma-2003-temp.csv',\n",
       " 'data/earthpy-downloads/avg-monthly-temp-fahr/Sonoma\\\\Sonoma-2002-temp.csv',\n",
       " 'data/earthpy-downloads/avg-monthly-temp-fahr/Sonoma\\\\Sonoma-2001-temp.csv',\n",
       " 'data/earthpy-downloads/avg-monthly-temp-fahr/Sonoma\\\\Sonoma-2000-temp.csv',\n",
       " 'data/earthpy-downloads/avg-monthly-temp-fahr/Sonoma\\\\Sonoma-1999-temp.csv']"
      ]
     },
     "execution_count": 51,
     "metadata": {},
     "output_type": "execute_result"
    }
   ],
   "source": [
    "# Sort and reverse glob list\n",
    "sonoma_files.sort()\n",
    "sonoma_files.reverse()\n",
    "sonoma_files"
   ]
  },
  {
   "cell_type": "code",
   "execution_count": 48,
   "id": "254c0e80",
   "metadata": {
    "scrolled": true
   },
   "outputs": [
    {
     "name": "stdout",
     "output_type": "stream",
     "text": [
      "data/earthpy-downloads/avg-monthly-temp-fahr/Sonoma\\Sonoma-2003-temp.csv\n"
     ]
    }
   ],
   "source": [
    "# Another option to sort list\n",
    "sonoma_files = sorted(glob(os.path.join(data_folder + '/Sonoma/*.csv')))\n",
    "print(sonoma_files[4])"
   ]
  },
  {
   "cell_type": "code",
   "execution_count": 52,
   "id": "31613dd2",
   "metadata": {},
   "outputs": [
    {
     "name": "stdout",
     "output_type": "stream",
     "text": [
      "data/earthpy-downloads/avg-monthly-temp-fahr/Sonoma\\Sonoma-1999-temp.csv\n"
     ]
    }
   ],
   "source": [
    "# Why sort glob list?\n",
    "sonoma_files.sort()\n",
    "sonoma_files.reverse()\n",
    "print(sonoma_files[4])"
   ]
  },
  {
   "cell_type": "markdown",
   "id": "f2bae8fb",
   "metadata": {},
   "source": [
    "### Using ranges\n",
    "In addition to using * to specify which parts of a file name are important to you, you can use [ ] to specify a range of characters to search for."
   ]
  },
  {
   "cell_type": "code",
   "execution_count": 55,
   "id": "c9896f61",
   "metadata": {
    "scrolled": true
   },
   "outputs": [
    {
     "data": {
      "text/plain": [
       "['data/earthpy-downloads/avg-monthly-temp-fahr\\\\San-Diego\\\\San-Diego-2001-temp.csv',\n",
       " 'data/earthpy-downloads/avg-monthly-temp-fahr\\\\San-Diego\\\\San-Diego-2002-temp.csv',\n",
       " 'data/earthpy-downloads/avg-monthly-temp-fahr\\\\San-Diego\\\\San-Diego-2003-temp.csv',\n",
       " 'data/earthpy-downloads/avg-monthly-temp-fahr\\\\Sonoma\\\\Sonoma-2001-temp.csv',\n",
       " 'data/earthpy-downloads/avg-monthly-temp-fahr\\\\Sonoma\\\\Sonoma-2002-temp.csv',\n",
       " 'data/earthpy-downloads/avg-monthly-temp-fahr\\\\Sonoma\\\\Sonoma-2003-temp.csv']"
      ]
     },
     "execution_count": 55,
     "metadata": {},
     "output_type": "execute_result"
    }
   ],
   "source": [
    "# Create a search for all files with 2001 to 2003 in the name by using *200 and adding [1-3]* to it\n",
    "glob(os.path.join(data_folder + '/*/*200[1-3]*'))"
   ]
  },
  {
   "cell_type": "code",
   "execution_count": 56,
   "id": "6e532acb",
   "metadata": {},
   "outputs": [
    {
     "data": {
      "text/plain": [
       "['data/earthpy-downloads/avg-monthly-temp-fahr\\\\San-Diego\\\\San-Diego-1999-temp.csv',\n",
       " 'data/earthpy-downloads/avg-monthly-temp-fahr\\\\San-Diego\\\\San-Diego-2000-temp.csv',\n",
       " 'data/earthpy-downloads/avg-monthly-temp-fahr\\\\San-Diego\\\\San-Diego-2001-temp.csv',\n",
       " 'data/earthpy-downloads/avg-monthly-temp-fahr\\\\San-Diego\\\\San-Diego-2002-temp.csv',\n",
       " 'data/earthpy-downloads/avg-monthly-temp-fahr\\\\San-Diego\\\\San-Diego-2003-temp.csv',\n",
       " 'data/earthpy-downloads/avg-monthly-temp-fahr\\\\Sonoma\\\\Sonoma-1999-temp.csv',\n",
       " 'data/earthpy-downloads/avg-monthly-temp-fahr\\\\Sonoma\\\\Sonoma-2000-temp.csv',\n",
       " 'data/earthpy-downloads/avg-monthly-temp-fahr\\\\Sonoma\\\\Sonoma-2001-temp.csv',\n",
       " 'data/earthpy-downloads/avg-monthly-temp-fahr\\\\Sonoma\\\\Sonoma-2002-temp.csv',\n",
       " 'data/earthpy-downloads/avg-monthly-temp-fahr\\\\Sonoma\\\\Sonoma-2003-temp.csv']"
      ]
     },
     "execution_count": 56,
     "metadata": {},
     "output_type": "execute_result"
    }
   ],
   "source": [
    "# Notice below that the search does not work correctly because [2001-2003] are more than one character.\n",
    "glob(os.path.join(data_folder + '/*/*[2001-2003]*'))"
   ]
  },
  {
   "cell_type": "markdown",
   "id": "0b4a4701",
   "metadata": {},
   "source": [
    "### ? Operator\n",
    "The ? operator functions similarly to the * operator but is used for a single character. If one character in the file name can be variable, but everything else must stay the same, than ? is a good way to just replace that one character."
   ]
  },
  {
   "cell_type": "code",
   "execution_count": 57,
   "id": "0573f7f2",
   "metadata": {},
   "outputs": [
    {
     "data": {
      "text/plain": [
       "['data/earthpy-downloads/avg-monthly-temp-fahr/Sonoma\\\\Sonoma-2000-temp.csv',\n",
       " 'data/earthpy-downloads/avg-monthly-temp-fahr/Sonoma\\\\Sonoma-2001-temp.csv',\n",
       " 'data/earthpy-downloads/avg-monthly-temp-fahr/Sonoma\\\\Sonoma-2002-temp.csv',\n",
       " 'data/earthpy-downloads/avg-monthly-temp-fahr/Sonoma\\\\Sonoma-2003-temp.csv']"
      ]
     },
     "execution_count": 57,
     "metadata": {},
     "output_type": "execute_result"
    }
   ],
   "source": [
    "glob(os.path.join(data_folder + '/Sonoma/*200?-temp.csv'))"
   ]
  },
  {
   "cell_type": "markdown",
   "id": "5b731b50",
   "metadata": {},
   "source": [
    "? is not limited to one use per search and can be used to replace more than one character in a query."
   ]
  },
  {
   "cell_type": "code",
   "execution_count": 58,
   "id": "1f9aedaf",
   "metadata": {},
   "outputs": [
    {
     "data": {
      "text/plain": [
       "['data/earthpy-downloads/avg-monthly-temp-fahr/Sonoma\\\\Sonoma-1999-temp.csv']"
      ]
     },
     "execution_count": 58,
     "metadata": {},
     "output_type": "execute_result"
    }
   ],
   "source": [
    "glob(os.path.join(data_folder + '/Sonoma/*19??-temp.csv'))"
   ]
  },
  {
   "cell_type": "code",
   "execution_count": 59,
   "id": "7ea68875",
   "metadata": {},
   "outputs": [
    {
     "data": {
      "text/plain": [
       "['data/earthpy-downloads/avg-monthly-temp-fahr/San-Diego\\\\San-Diego-1999-temp.csv',\n",
       " 'data/earthpy-downloads/avg-monthly-temp-fahr/San-Diego\\\\San-Diego-2000-temp.csv',\n",
       " 'data/earthpy-downloads/avg-monthly-temp-fahr/San-Diego\\\\San-Diego-2001-temp.csv',\n",
       " 'data/earthpy-downloads/avg-monthly-temp-fahr/San-Diego\\\\San-Diego-2002-temp.csv',\n",
       " 'data/earthpy-downloads/avg-monthly-temp-fahr/San-Diego\\\\San-Diego-2003-temp.csv']"
      ]
     },
     "execution_count": 59,
     "metadata": {},
     "output_type": "execute_result"
    }
   ],
   "source": [
    "# Save a glob output to a variable\n",
    "sd_data = glob(os.path.join(data_folder + '/San-Diego/*'))\n",
    "sd_data.sort()\n",
    "sd_data"
   ]
  },
  {
   "cell_type": "markdown",
   "id": "7c6fc387",
   "metadata": {},
   "source": [
    "## os advanced functionality\n",
    "os is another very powerful tool and has additional functionality that can be useful when dealing with file paths, such as advanced parsing abilities.\n",
    "\n",
    "For example, **os.path.normpath()** is a great way to clean up file paths. It takes out any unnecessary characters to make the path more easily read."
   ]
  },
  {
   "cell_type": "code",
   "execution_count": 60,
   "id": "006bbb8c",
   "metadata": {
    "scrolled": true
   },
   "outputs": [
    {
     "data": {
      "text/plain": [
       "True"
      ]
     },
     "execution_count": 60,
     "metadata": {},
     "output_type": "execute_result"
    }
   ],
   "source": [
    "ex_path = 'C:/Users/user/Documents'\n",
    "os.path.exists(ex_path)"
   ]
  },
  {
   "cell_type": "code",
   "execution_count": 61,
   "id": "13825474",
   "metadata": {},
   "outputs": [
    {
     "data": {
      "text/plain": [
       "'C:\\\\Users\\\\user\\\\Documents'"
      ]
     },
     "execution_count": 61,
     "metadata": {},
     "output_type": "execute_result"
    }
   ],
   "source": [
    "os.path.normpath(ex_path)"
   ]
  },
  {
   "cell_type": "markdown",
   "id": "889d8746",
   "metadata": {},
   "source": [
    "**os.path.commonpath()** is a very useful when combined with glob. This function will take a list of file paths and find the lowest directory that all the files have in common. So if there were two files, one stored in *home/user/dir/dir2/example.txt* and one stored in *home/user/dir/example.txt*, then os.path.commonpath() would return *home/user/dir* as it’s the lowest common directory the two folders share."
   ]
  },
  {
   "cell_type": "code",
   "execution_count": 62,
   "id": "f14362d9",
   "metadata": {},
   "outputs": [
    {
     "data": {
      "text/plain": [
       "['data/earthpy-downloads/avg-monthly-temp-fahr/San-Diego\\\\San-Diego-1999-temp.csv',\n",
       " 'data/earthpy-downloads/avg-monthly-temp-fahr/San-Diego\\\\San-Diego-2000-temp.csv',\n",
       " 'data/earthpy-downloads/avg-monthly-temp-fahr/San-Diego\\\\San-Diego-2001-temp.csv',\n",
       " 'data/earthpy-downloads/avg-monthly-temp-fahr/San-Diego\\\\San-Diego-2002-temp.csv',\n",
       " 'data/earthpy-downloads/avg-monthly-temp-fahr/San-Diego\\\\San-Diego-2003-temp.csv']"
      ]
     },
     "execution_count": 62,
     "metadata": {},
     "output_type": "execute_result"
    }
   ],
   "source": [
    "# Print list of files\n",
    "sd_data"
   ]
  },
  {
   "cell_type": "code",
   "execution_count": 63,
   "id": "8e4e762f",
   "metadata": {},
   "outputs": [
    {
     "data": {
      "text/plain": [
       "'data\\\\earthpy-downloads\\\\avg-monthly-temp-fahr\\\\San-Diego'"
      ]
     },
     "execution_count": 63,
     "metadata": {},
     "output_type": "execute_result"
    }
   ],
   "source": [
    "os.path.commonpath(sd_data)"
   ]
  },
  {
   "cell_type": "markdown",
   "id": "29be41cc",
   "metadata": {},
   "source": [
    "**os.path.basename()** finds the last section of a path and returns that. If a file path is passed in, the file name will be parsed out and returned."
   ]
  },
  {
   "cell_type": "code",
   "execution_count": 64,
   "id": "23071d0e",
   "metadata": {},
   "outputs": [
    {
     "data": {
      "text/plain": [
       "'data\\\\earthpy-downloads\\\\avg-monthly-temp-fahr'"
      ]
     },
     "execution_count": 64,
     "metadata": {},
     "output_type": "execute_result"
    }
   ],
   "source": [
    "os.path.normpath(data_folder)"
   ]
  },
  {
   "cell_type": "code",
   "execution_count": 65,
   "id": "85ecd917",
   "metadata": {},
   "outputs": [
    {
     "data": {
      "text/plain": [
       "'avg-monthly-temp-fahr'"
      ]
     },
     "execution_count": 65,
     "metadata": {},
     "output_type": "execute_result"
    }
   ],
   "source": [
    "os.path.basename(os.path.normpath(data_folder))"
   ]
  },
  {
   "cell_type": "markdown",
   "id": "667d7cf3",
   "metadata": {},
   "source": [
    "**os.path.split()** will split a path into two parts:\n",
    "\n",
    "1. the last part \n",
    "2. the rest\n",
    "\n",
    "It returns the same output as os.path.basename() with the addition of the rest of the path that was left out as another ."
   ]
  },
  {
   "cell_type": "code",
   "execution_count": 66,
   "id": "3d7b7725",
   "metadata": {},
   "outputs": [
    {
     "data": {
      "text/plain": [
       "('data\\\\earthpy-downloads', 'avg-monthly-temp-fahr')"
      ]
     },
     "execution_count": 66,
     "metadata": {},
     "output_type": "execute_result"
    }
   ],
   "source": [
    "os.path.split(os.path.normpath(data_folder))"
   ]
  },
  {
   "cell_type": "code",
   "execution_count": 67,
   "id": "928208af",
   "metadata": {
    "scrolled": true
   },
   "outputs": [
    {
     "data": {
      "text/plain": [
       "'data\\\\earthpy-downloads'"
      ]
     },
     "execution_count": 67,
     "metadata": {},
     "output_type": "execute_result"
    }
   ],
   "source": [
    "os.path.split(os.path.normpath(data_folder))[0]"
   ]
  },
  {
   "cell_type": "code",
   "execution_count": 68,
   "id": "d19169f5",
   "metadata": {},
   "outputs": [
    {
     "data": {
      "text/plain": [
       "'avg-monthly-temp-fahr'"
      ]
     },
     "execution_count": 68,
     "metadata": {},
     "output_type": "execute_result"
    }
   ],
   "source": [
    "os.path.split(os.path.normpath(data_folder))[1]"
   ]
  },
  {
   "cell_type": "markdown",
   "id": "025fca81",
   "metadata": {},
   "source": [
    "## String manipulation\n",
    "**.split()** is a built-in Python function that splits a string into a list of strings based on a separator character, and can be used in combination with **os.sep** to separate directories in file paths into their base parts. os.sepis a data value stored in os that will return the character used to separate pathname components, such as directory or file names. This is \\ \\ for Windows and / for POSIX systems, such as Mac or Linux."
   ]
  },
  {
   "cell_type": "code",
   "execution_count": 73,
   "id": "231e2690",
   "metadata": {},
   "outputs": [
    {
     "data": {
      "text/plain": [
       "['data', 'earthpy-downloads', 'avg-monthly-temp-fahr']"
      ]
     },
     "execution_count": 73,
     "metadata": {},
     "output_type": "execute_result"
    }
   ],
   "source": [
    "# Separate a path into parts\n",
    "file_path_list = data_folder.split(os.sep)\n",
    "file_path_list"
   ]
  },
  {
   "cell_type": "code",
   "execution_count": 74,
   "id": "0db4689e",
   "metadata": {},
   "outputs": [
    {
     "data": {
      "text/plain": [
       "'avg-monthly-temp-fahr'"
      ]
     },
     "execution_count": 74,
     "metadata": {},
     "output_type": "execute_result"
    }
   ],
   "source": [
    "file_path_list[2]"
   ]
  },
  {
   "cell_type": "markdown",
   "id": "58f3bba2",
   "metadata": {},
   "source": [
    "In addition to built-in functions, file paths can be parsed with string[start_index:end_index] like a normal string. This can help get important infromation from a file path, such as a date."
   ]
  },
  {
   "cell_type": "code",
   "execution_count": 75,
   "id": "baf82352",
   "metadata": {},
   "outputs": [
    {
     "data": {
      "text/plain": [
       "['data/earthpy-downloads/avg-monthly-temp-fahr/San-Diego\\\\San-Diego-1999-temp.csv',\n",
       " 'data/earthpy-downloads/avg-monthly-temp-fahr/San-Diego\\\\San-Diego-2000-temp.csv',\n",
       " 'data/earthpy-downloads/avg-monthly-temp-fahr/San-Diego\\\\San-Diego-2001-temp.csv',\n",
       " 'data/earthpy-downloads/avg-monthly-temp-fahr/San-Diego\\\\San-Diego-2002-temp.csv',\n",
       " 'data/earthpy-downloads/avg-monthly-temp-fahr/San-Diego\\\\San-Diego-2003-temp.csv']"
      ]
     },
     "execution_count": 75,
     "metadata": {},
     "output_type": "execute_result"
    }
   ],
   "source": [
    "# Get list of files\n",
    "sd_data"
   ]
  },
  {
   "cell_type": "code",
   "execution_count": 76,
   "id": "f06f391a",
   "metadata": {},
   "outputs": [
    {
     "name": "stdout",
     "output_type": "stream",
     "text": [
      "San-Diego-1999-temp.csv\n"
     ]
    }
   ],
   "source": [
    "# Get a file name\n",
    "year_path = sd_data[0]\n",
    "file_name = os.path.basename(year_path)\n",
    "print(file_name)"
   ]
  },
  {
   "cell_type": "code",
   "execution_count": 77,
   "id": "1add82f5",
   "metadata": {
    "scrolled": true
   },
   "outputs": [
    {
     "name": "stdout",
     "output_type": "stream",
     "text": [
      "1999\n"
     ]
    }
   ],
   "source": [
    "# Parse a date from file name\n",
    "year = file_name[10:14]\n",
    "print(year)"
   ]
  },
  {
   "cell_type": "markdown",
   "id": "f4e4cf3b",
   "metadata": {},
   "source": [
    "Notice that the range includes the first index value but not the second index value (e.g. 1999 are index values 10 through 13)."
   ]
  }
 ],
 "metadata": {
  "kernelspec": {
   "display_name": "Python 3 (ipykernel)",
   "language": "python",
   "name": "python3"
  },
  "language_info": {
   "codemirror_mode": {
    "name": "ipython",
    "version": 3
   },
   "file_extension": ".py",
   "mimetype": "text/x-python",
   "name": "python",
   "nbconvert_exporter": "python",
   "pygments_lexer": "ipython3",
   "version": "3.9.6"
  }
 },
 "nbformat": 4,
 "nbformat_minor": 5
}
