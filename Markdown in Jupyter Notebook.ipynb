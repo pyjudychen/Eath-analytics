{
 "cells": [
  {
   "cell_type": "markdown",
   "metadata": {},
   "source": [
    "# Markdown in Jupyter Notebook"
   ]
  },
  {
   "cell_type": "markdown",
   "metadata": {},
   "source": [
    "## My Analysis\n",
    "Here is *some* text that describe analysis\n",
    "1. Data Processing\n",
    "2. Methods\n",
    "3. Results\n",
    "4. Disucssion"
   ]
  },
  {
   "cell_type": "markdown",
   "metadata": {},
   "source": [
    "## Section Headers\n",
    "# Heading One\n",
    "## Heading Two\n",
    "### Heading Three\n",
    "#### Heading Four"
   ]
  },
  {
   "cell_type": "markdown",
   "metadata": {},
   "source": [
    "## List\n",
    "* This is a bullet list\n",
    "* This is a bullet list\n",
    "* This is a bullet list\n",
    "\n",
    "1. And you can also create ordered lists\n",
    "2. by usig numbers\n",
    "3. and listing new items in the lists\n",
    "4. on their own lines"
   ]
  },
  {
   "cell_type": "markdown",
   "metadata": {},
   "source": [
    "## Bold and Italicize\n",
    "*These are italicized words not a bullet list*\n",
    "* **This is a bullet item with bold words**\n",
    "* *This is a bullet item with italicized words*"
   ]
  },
  {
   "cell_type": "markdown",
   "metadata": {},
   "source": [
    "## Highliting Code\n",
    "    'Here is some code!'"
   ]
  },
  {
   "cell_type": "markdown",
   "metadata": {},
   "source": [
    "## Horizontal Lines (Rules)\n",
    "***\n",
    "Here are some important text!\n",
    "***"
   ]
  },
  {
   "cell_type": "markdown",
   "metadata": {},
   "source": [
    "## Hyperlinks\n",
    "Our program webiste can be found at <a href=\"https://www.earthdatascience.org/\" target='_blank'>this link</a>."
   ]
  },
  {
   "cell_type": "markdown",
   "metadata": {},
   "source": [
    "## Tables\n",
    "|活動名稱|日期|\n",
    "|:----|:----|\n",
    "|The Odyssey|9/5(日)~9/10(五)|\n",
    "|International Student Orientation|Video, coming soon|\n",
    "|Graduate Student Orientation|Online, 七月初|\n",
    "|Graduate Student Resource Fair|9/13(一)|\n",
    "\n"
   ]
  },
  {
   "cell_type": "markdown",
   "metadata": {},
   "source": [
    "## Render Images\n",
    "![Markdown Logo is here.](https://www.fullstackpython.com/img/logos/markdown.png)"
   ]
  },
  {
   "cell_type": "markdown",
   "metadata": {},
   "source": [
    "### Local Images Using Relative Computer Paths\n",
    "![Photo of Gecko, Orange](data/Orange.jpg)"
   ]
  }
 ],
 "metadata": {
  "kernelspec": {
   "display_name": "Python 3",
   "language": "python",
   "name": "python3"
  },
  "language_info": {
   "codemirror_mode": {
    "name": "ipython",
    "version": 3
   },
   "file_extension": ".py",
   "mimetype": "text/x-python",
   "name": "python",
   "nbconvert_exporter": "python",
   "pygments_lexer": "ipython3",
   "version": "3.8.5"
  }
 },
 "nbformat": 4,
 "nbformat_minor": 4
}
