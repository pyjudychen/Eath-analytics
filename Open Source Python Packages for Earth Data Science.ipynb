{
 "cells": [
  {
   "cell_type": "markdown",
   "id": "c3b71202",
   "metadata": {},
   "source": [
    "## Open Source Python Packages for Earth Data Science\n",
    "\n",
    "* **os**: handle files and directories.\n",
    "* **glob**: create lists of files and directories for batch processing.\n",
    "* **matplotlib**: plot data.\n",
    "* **numpy**: work with data in array formats (often related to imagery and raster format data).\n",
    "* **pandas**: work with tabular data in a DataFrame format.\n",
    "* **rasterio**: work with raster (image and arrays) data.\n",
    "* **geopandas**: work with vector format (shapefiles, geojson - points, lines and polygons) using a geodataframe format.\n",
    "* **earthpy**: plot and manipulate spatial data (raster and vector)."
   ]
  }
 ],
 "metadata": {
  "kernelspec": {
   "display_name": "Python 3 (ipykernel)",
   "language": "python",
   "name": "python3"
  },
  "language_info": {
   "codemirror_mode": {
    "name": "ipython",
    "version": 3
   },
   "file_extension": ".py",
   "mimetype": "text/x-python",
   "name": "python",
   "nbconvert_exporter": "python",
   "pygments_lexer": "ipython3",
   "version": "3.9.6"
  }
 },
 "nbformat": 4,
 "nbformat_minor": 5
}
