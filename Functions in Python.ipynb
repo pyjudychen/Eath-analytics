{
 "cells": [
  {
   "cell_type": "markdown",
   "id": "ee537154",
   "metadata": {},
   "source": [
    "## Write a function in Python"
   ]
  },
  {
   "cell_type": "code",
   "execution_count": 1,
   "id": "cf7f6f0c",
   "metadata": {},
   "outputs": [],
   "source": [
    "def function_name (parameter):\n",
    "    \"\"\"Docstring should include a description of the function here \n",
    "       as well as identify the parameters (inputs) that the function \n",
    "       can take the return (ouput) provided by the function, \n",
    "       as shown below.\n",
    "       \n",
    "       Parameters\n",
    "       ----------\n",
    "       input:type\n",
    "           Description of input.\n",
    "        Returns\n",
    "        ---------\n",
    "        output:type\n",
    "            Description of output\n",
    "    \"\"\"\n",
    "    pass\n",
    "    return output"
   ]
  },
  {
   "cell_type": "code",
   "execution_count": 2,
   "id": "3ed2edb4",
   "metadata": {},
   "outputs": [],
   "source": [
    "def mm_to_in(mm):\n",
    "    \"\"\"\n",
    "    Convert input from millimeters to inches.\n",
    "    \n",
    "    Parameters\n",
    "    ----------\n",
    "    mm:int or float\n",
    "        Numeric value with units in mm\n",
    "    \n",
    "    Returns\n",
    "    -------\n",
    "    inches:int or float\n",
    "        Numeric value with units in inches\n",
    "    \"\"\"\n",
    "    inches = mm/25.4\n",
    "    return inches"
   ]
  },
  {
   "cell_type": "markdown",
   "id": "c5cafb29",
   "metadata": {},
   "source": [
    "### Call custom functions in Python"
   ]
  },
  {
   "cell_type": "code",
   "execution_count": 3,
   "id": "2c6744fa",
   "metadata": {},
   "outputs": [
    {
     "data": {
      "text/plain": [
       "0.7000000000000001"
      ]
     },
     "execution_count": 3,
     "metadata": {},
     "output_type": "execute_result"
    }
   ],
   "source": [
    "precip_jan_mm = 17.78\n",
    "\n",
    "mm_to_in(precip_jan_mm)"
   ]
  },
  {
   "cell_type": "code",
   "execution_count": 7,
   "id": "b38a1efa",
   "metadata": {},
   "outputs": [
    {
     "data": {
      "text/plain": [
       "17.78"
      ]
     },
     "execution_count": 7,
     "metadata": {},
     "output_type": "execute_result"
    }
   ],
   "source": [
    "# The original values of precip_jan_in has not been changed\n",
    "precip_jan_mm"
   ]
  },
  {
   "cell_type": "markdown",
   "id": "243a8e27",
   "metadata": {},
   "source": [
    "### Applying the same function to multiple object types"
   ]
  },
  {
   "cell_type": "code",
   "execution_count": 12,
   "id": "1299b098",
   "metadata": {},
   "outputs": [],
   "source": [
    "import numpy as np\n",
    "import pandas as pd"
   ]
  },
  {
   "cell_type": "code",
   "execution_count": 6,
   "id": "45f26aa5",
   "metadata": {},
   "outputs": [
    {
     "data": {
      "text/plain": [
       "array([0.7 , 0.75, 1.85, 2.93, 3.05, 2.02, 1.93, 1.62, 1.84, 1.31, 1.39,\n",
       "       0.84])"
      ]
     },
     "execution_count": 6,
     "metadata": {},
     "output_type": "execute_result"
    }
   ],
   "source": [
    "avg_monthly_precip_mm = np.array([17.78, 19.05, 46.99, 74.422, \n",
    "                                 77.47, 51.308, 49.022, 41.148, \n",
    "                                 46.736, 33.274, 35.306, 21.336])\n",
    "mm_to_in(avg_monthly_precip_mm)"
   ]
  },
  {
   "cell_type": "code",
   "execution_count": 11,
   "id": "f717ea51",
   "metadata": {},
   "outputs": [],
   "source": [
    "precip_2002 = pd.DataFrame(columns = ['month', 'precip_mm'], \n",
    "                           data = [\n",
    "                              ['Jan', 27.178], ['Feb', 11.176], \n",
    "                              ['Mar', 38.100], ['Apr', 5.080], \n",
    "                              ['May', 81.280], ['Jun', 29.972], \n",
    "                              ['Jul', 2.286], ['Aug', 36.576], \n",
    "                              ['Sep', 38.608], ['Oct', 61.976], \n",
    "                              ['Nov', 19.812], ['Dec', 0.508]\n",
    "                           ])"
   ]
  },
  {
   "cell_type": "code",
   "execution_count": 13,
   "id": "e96cc637",
   "metadata": {},
   "outputs": [
    {
     "data": {
      "text/html": [
       "<div>\n",
       "<style scoped>\n",
       "    .dataframe tbody tr th:only-of-type {\n",
       "        vertical-align: middle;\n",
       "    }\n",
       "\n",
       "    .dataframe tbody tr th {\n",
       "        vertical-align: top;\n",
       "    }\n",
       "\n",
       "    .dataframe thead th {\n",
       "        text-align: right;\n",
       "    }\n",
       "</style>\n",
       "<table border=\"1\" class=\"dataframe\">\n",
       "  <thead>\n",
       "    <tr style=\"text-align: right;\">\n",
       "      <th></th>\n",
       "      <th>month</th>\n",
       "      <th>precip_mm</th>\n",
       "      <th>precip_in</th>\n",
       "    </tr>\n",
       "  </thead>\n",
       "  <tbody>\n",
       "    <tr>\n",
       "      <th>0</th>\n",
       "      <td>Jan</td>\n",
       "      <td>27.178</td>\n",
       "      <td>1.07</td>\n",
       "    </tr>\n",
       "    <tr>\n",
       "      <th>1</th>\n",
       "      <td>Feb</td>\n",
       "      <td>11.176</td>\n",
       "      <td>0.44</td>\n",
       "    </tr>\n",
       "    <tr>\n",
       "      <th>2</th>\n",
       "      <td>Mar</td>\n",
       "      <td>38.100</td>\n",
       "      <td>1.50</td>\n",
       "    </tr>\n",
       "    <tr>\n",
       "      <th>3</th>\n",
       "      <td>Apr</td>\n",
       "      <td>5.080</td>\n",
       "      <td>0.20</td>\n",
       "    </tr>\n",
       "    <tr>\n",
       "      <th>4</th>\n",
       "      <td>May</td>\n",
       "      <td>81.280</td>\n",
       "      <td>3.20</td>\n",
       "    </tr>\n",
       "    <tr>\n",
       "      <th>5</th>\n",
       "      <td>Jun</td>\n",
       "      <td>29.972</td>\n",
       "      <td>1.18</td>\n",
       "    </tr>\n",
       "    <tr>\n",
       "      <th>6</th>\n",
       "      <td>Jul</td>\n",
       "      <td>2.286</td>\n",
       "      <td>0.09</td>\n",
       "    </tr>\n",
       "    <tr>\n",
       "      <th>7</th>\n",
       "      <td>Aug</td>\n",
       "      <td>36.576</td>\n",
       "      <td>1.44</td>\n",
       "    </tr>\n",
       "    <tr>\n",
       "      <th>8</th>\n",
       "      <td>Sep</td>\n",
       "      <td>38.608</td>\n",
       "      <td>1.52</td>\n",
       "    </tr>\n",
       "    <tr>\n",
       "      <th>9</th>\n",
       "      <td>Oct</td>\n",
       "      <td>61.976</td>\n",
       "      <td>2.44</td>\n",
       "    </tr>\n",
       "    <tr>\n",
       "      <th>10</th>\n",
       "      <td>Nov</td>\n",
       "      <td>19.812</td>\n",
       "      <td>0.78</td>\n",
       "    </tr>\n",
       "    <tr>\n",
       "      <th>11</th>\n",
       "      <td>Dec</td>\n",
       "      <td>0.508</td>\n",
       "      <td>0.02</td>\n",
       "    </tr>\n",
       "  </tbody>\n",
       "</table>\n",
       "</div>"
      ],
      "text/plain": [
       "   month  precip_mm  precip_in\n",
       "0    Jan     27.178       1.07\n",
       "1    Feb     11.176       0.44\n",
       "2    Mar     38.100       1.50\n",
       "3    Apr      5.080       0.20\n",
       "4    May     81.280       3.20\n",
       "5    Jun     29.972       1.18\n",
       "6    Jul      2.286       0.09\n",
       "7    Aug     36.576       1.44\n",
       "8    Sep     38.608       1.52\n",
       "9    Oct     61.976       2.44\n",
       "10   Nov     19.812       0.78\n",
       "11   Dec      0.508       0.02"
      ]
     },
     "execution_count": 13,
     "metadata": {},
     "output_type": "execute_result"
    }
   ],
   "source": [
    "precip_2002['precip_in'] = mm_to_in(mm = precip_2002['precip_mm'])\n",
    "precip_2002"
   ]
  },
  {
   "cell_type": "markdown",
   "id": "2d44f099",
   "metadata": {},
   "source": [
    "### Call help on a custom function"
   ]
  },
  {
   "cell_type": "code",
   "execution_count": 14,
   "id": "365733c9",
   "metadata": {},
   "outputs": [
    {
     "name": "stdout",
     "output_type": "stream",
     "text": [
      "Help on function mean in module numpy:\n",
      "\n",
      "mean(a, axis=None, dtype=None, out=None, keepdims=<no value>, *, where=<no value>)\n",
      "    Compute the arithmetic mean along the specified axis.\n",
      "    \n",
      "    Returns the average of the array elements.  The average is taken over\n",
      "    the flattened array by default, otherwise over the specified axis.\n",
      "    `float64` intermediate and return values are used for integer inputs.\n",
      "    \n",
      "    Parameters\n",
      "    ----------\n",
      "    a : array_like\n",
      "        Array containing numbers whose mean is desired. If `a` is not an\n",
      "        array, a conversion is attempted.\n",
      "    axis : None or int or tuple of ints, optional\n",
      "        Axis or axes along which the means are computed. The default is to\n",
      "        compute the mean of the flattened array.\n",
      "    \n",
      "        .. versionadded:: 1.7.0\n",
      "    \n",
      "        If this is a tuple of ints, a mean is performed over multiple axes,\n",
      "        instead of a single axis or all the axes as before.\n",
      "    dtype : data-type, optional\n",
      "        Type to use in computing the mean.  For integer inputs, the default\n",
      "        is `float64`; for floating point inputs, it is the same as the\n",
      "        input dtype.\n",
      "    out : ndarray, optional\n",
      "        Alternate output array in which to place the result.  The default\n",
      "        is ``None``; if provided, it must have the same shape as the\n",
      "        expected output, but the type will be cast if necessary.\n",
      "        See :ref:`ufuncs-output-type` for more details.\n",
      "    \n",
      "    keepdims : bool, optional\n",
      "        If this is set to True, the axes which are reduced are left\n",
      "        in the result as dimensions with size one. With this option,\n",
      "        the result will broadcast correctly against the input array.\n",
      "    \n",
      "        If the default value is passed, then `keepdims` will not be\n",
      "        passed through to the `mean` method of sub-classes of\n",
      "        `ndarray`, however any non-default value will be.  If the\n",
      "        sub-class' method does not implement `keepdims` any\n",
      "        exceptions will be raised.\n",
      "    \n",
      "    where : array_like of bool, optional\n",
      "        Elements to include in the mean. See `~numpy.ufunc.reduce` for details.\n",
      "    \n",
      "        .. versionadded:: 1.20.0\n",
      "    \n",
      "    Returns\n",
      "    -------\n",
      "    m : ndarray, see dtype parameter above\n",
      "        If `out=None`, returns a new array containing the mean values,\n",
      "        otherwise a reference to the output array is returned.\n",
      "    \n",
      "    See Also\n",
      "    --------\n",
      "    average : Weighted average\n",
      "    std, var, nanmean, nanstd, nanvar\n",
      "    \n",
      "    Notes\n",
      "    -----\n",
      "    The arithmetic mean is the sum of the elements along the axis divided\n",
      "    by the number of elements.\n",
      "    \n",
      "    Note that for floating-point input, the mean is computed using the\n",
      "    same precision the input has.  Depending on the input data, this can\n",
      "    cause the results to be inaccurate, especially for `float32` (see\n",
      "    example below).  Specifying a higher-precision accumulator using the\n",
      "    `dtype` keyword can alleviate this issue.\n",
      "    \n",
      "    By default, `float16` results are computed using `float32` intermediates\n",
      "    for extra precision.\n",
      "    \n",
      "    Examples\n",
      "    --------\n",
      "    >>> a = np.array([[1, 2], [3, 4]])\n",
      "    >>> np.mean(a)\n",
      "    2.5\n",
      "    >>> np.mean(a, axis=0)\n",
      "    array([2., 3.])\n",
      "    >>> np.mean(a, axis=1)\n",
      "    array([1.5, 3.5])\n",
      "    \n",
      "    In single precision, `mean` can be inaccurate:\n",
      "    \n",
      "    >>> a = np.zeros((2, 512*512), dtype=np.float32)\n",
      "    >>> a[0, :] = 1.0\n",
      "    >>> a[1, :] = 0.1\n",
      "    >>> np.mean(a)\n",
      "    0.54999924\n",
      "    \n",
      "    Computing the mean in float64 is more accurate:\n",
      "    \n",
      "    >>> np.mean(a, dtype=np.float64)\n",
      "    0.55000000074505806 # may vary\n",
      "    \n",
      "    Specifying a where argument:\n",
      "    >>> a = np.array([[5, 9, 13], [14, 10, 12], [11, 15, 19]])\n",
      "    >>> np.mean(a)\n",
      "    12.0\n",
      "    >>> np.mean(a, where=[[True], [False], [False]])\n",
      "    9.0\n",
      "\n"
     ]
    }
   ],
   "source": [
    "help(np.mean)"
   ]
  },
  {
   "cell_type": "code",
   "execution_count": 15,
   "id": "28619ed2",
   "metadata": {},
   "outputs": [
    {
     "name": "stdout",
     "output_type": "stream",
     "text": [
      "Help on function mm_to_in in module __main__:\n",
      "\n",
      "mm_to_in(mm)\n",
      "    Convert input from millimeters to inches.\n",
      "    \n",
      "    Parameters\n",
      "    ----------\n",
      "    mm:int or float\n",
      "        Numeric value with units in mm\n",
      "    \n",
      "    Returns\n",
      "    -------\n",
      "    inches:int or float\n",
      "        Numeric value with units in inches\n",
      "\n"
     ]
    }
   ],
   "source": [
    "help(mm_to_in)"
   ]
  },
  {
   "cell_type": "markdown",
   "id": "3d865b02",
   "metadata": {},
   "source": [
    "### Combine multiple function calls on a single object in python"
   ]
  },
  {
   "cell_type": "code",
   "execution_count": 16,
   "id": "cc7d08a4",
   "metadata": {},
   "outputs": [
    {
     "data": {
      "text/plain": [
       "1.6858333333333333"
      ]
     },
     "execution_count": 16,
     "metadata": {},
     "output_type": "execute_result"
    }
   ],
   "source": [
    "avg_monthly_precip_mean_in = np.mean(mm_to_in(mm = avg_monthly_precip_mm))\n",
    "avg_monthly_precip_mean_in"
   ]
  },
  {
   "cell_type": "markdown",
   "id": "0379dfcf",
   "metadata": {},
   "source": [
    "## Write functions with multiple parameters in python"
   ]
  },
  {
   "cell_type": "markdown",
   "id": "fca0aba0",
   "metadata": {},
   "source": [
    "### Call customs functions with multiple parameters in python"
   ]
  },
  {
   "cell_type": "code",
   "execution_count": 5,
   "id": "16f1eedc",
   "metadata": {},
   "outputs": [],
   "source": [
    "def multiply_values(x, y):\n",
    "    \"\"\"Calculate product of two imputs.\n",
    "    Parameters\n",
    "    ----------\n",
    "    x: int or float\n",
    "    y: int or float\n",
    "    \n",
    "    Returns\n",
    "    -------\n",
    "    ans: int or float\n",
    "    \"\"\"\n",
    "    ans = print(round(x*y, 2))\n",
    "    return ans"
   ]
  },
  {
   "cell_type": "code",
   "execution_count": 6,
   "id": "720c37b1",
   "metadata": {},
   "outputs": [
    {
     "name": "stdout",
     "output_type": "stream",
     "text": [
      "17.78\n"
     ]
    }
   ],
   "source": [
    "multiply_values(0.7, 25.4)"
   ]
  },
  {
   "cell_type": "code",
   "execution_count": 9,
   "id": "fee2293c",
   "metadata": {},
   "outputs": [],
   "source": [
    "# Average monthly precip (inches) for Jan in Boulder, CO\n",
    "precip_jan_in = 0.7\n",
    "\n",
    "# Conversion factor from inches to millimeters\n",
    "to_mm = 25.4"
   ]
  },
  {
   "cell_type": "code",
   "execution_count": 10,
   "id": "9579d411",
   "metadata": {},
   "outputs": [
    {
     "name": "stdout",
     "output_type": "stream",
     "text": [
      "17.78\n"
     ]
    }
   ],
   "source": [
    "precip_jan_mm = multiply_values(x = precip_jan_in, y = to_mm)"
   ]
  },
  {
   "cell_type": "markdown",
   "id": "67004f1a",
   "metadata": {},
   "source": [
    "### Combine unit conversion and calculation of statistics into one function"
   ]
  },
  {
   "cell_type": "code",
   "execution_count": 11,
   "id": "816af172",
   "metadata": {},
   "outputs": [],
   "source": [
    "def mm_to_in(mm):\n",
    "    '''Convert input from millimeters to inches.\n",
    "    \n",
    "    Parameters\n",
    "    ----------\n",
    "    mm: int or float\n",
    "        numeric value with units in millimeters.\n",
    "        \n",
    "    Returns\n",
    "    -------\n",
    "    inches: int or float\n",
    "        numeric value with units in inches.\n",
    "    '''\n",
    "    inches = mm/25.4\n",
    "    return inches"
   ]
  },
  {
   "cell_type": "markdown",
   "id": "4aab2772",
   "metadata": {},
   "source": [
    "You can expand this function to include running a mean along a specified axis for columns or rows and then use this function on many numpy arrays as needed. Begin by defining the function with a descriptive name and the two necessary parameters:\n",
    "* the input array with values in millimeters\n",
    "* the axis value for the mean calculation"
   ]
  },
  {
   "cell_type": "code",
   "execution_count": 23,
   "id": "3ea0ff50",
   "metadata": {},
   "outputs": [],
   "source": [
    "def mean_mm_to_in_arr(arr_mm, axis_value):\n",
    "    \"\"\"Calculate mean values of input array along a specified axis and convert values from millimeters to inches.\n",
    "    \n",
    "    Parameters\n",
    "    ----------\n",
    "    arr_mm: numpy array\n",
    "        numeric values in millimeters\n",
    "    axis_value: int\n",
    "    0 to calculate mean for each column\n",
    "    1 to calculate mean for each row\n",
    "    \n",
    "    Returns\n",
    "    -------\n",
    "    mean_arr_in: numpy array\n",
    "        mean values of input array in inches.\n",
    "    \"\"\"\n",
    "    mean_arr_mm = np.mean(arr_mm, axis = axis_value)\n",
    "    mean_arr_in = mean_arr_mm/25.4\n",
    "    \n",
    "    return mean_arr_in"
   ]
  },
  {
   "cell_type": "code",
   "execution_count": 25,
   "id": "973de4ce",
   "metadata": {},
   "outputs": [],
   "source": [
    "# 2d array of average monthly precip(mm) for 2002 and 2013 in Boulder, CO\n",
    "precip_2002_2013_mm = ([[27.178, 11.176, 38.1, 5.08, 81.28, 29.972, \n",
    "                        2.286, 36.576, 38.608, 61.976, 19.812, 0.508], \n",
    "                        [6.858, 28.702, 43.688, 105.156, 67.564, 15.494, \n",
    "                        26.162, 35.56, 461.264, 56.896, 7.366, 12.7]])"
   ]
  },
  {
   "cell_type": "code",
   "execution_count": 26,
   "id": "0e792029",
   "metadata": {},
   "outputs": [
    {
     "data": {
      "text/plain": [
       "array([0.67 , 0.785, 1.61 , 2.17 , 2.93 , 0.895, 0.56 , 1.42 , 9.84 ,\n",
       "       2.34 , 0.535, 0.26 ])"
      ]
     },
     "execution_count": 26,
     "metadata": {},
     "output_type": "execute_result"
    }
   ],
   "source": [
    "# Calculate monthly mean (inches) for precip_2002_2013\n",
    "monthly_mean_in = mean_mm_to_in_arr(arr_mm = precip_2002_2013_mm, axis_value = 0)\n",
    "monthly_mean_in"
   ]
  },
  {
   "cell_type": "code",
   "execution_count": 28,
   "id": "5a412e08",
   "metadata": {},
   "outputs": [
    {
     "data": {
      "text/plain": [
       "array([1.15666667, 2.84583333])"
      ]
     },
     "execution_count": 28,
     "metadata": {},
     "output_type": "execute_result"
    }
   ],
   "source": [
    "# Calculate yearly mean (inches) for precip_2002_2013\n",
    "yearly_mean_in = mean_mm_to_in_arr(precip_2002_2013_mm, 1)\n",
    "yearly_mean_in"
   ]
  },
  {
   "cell_type": "markdown",
   "id": "9063bee9",
   "metadata": {},
   "source": [
    "### Define optional input parameters for a function"
   ]
  },
  {
   "cell_type": "code",
   "execution_count": 30,
   "id": "6d11cbb5",
   "metadata": {},
   "outputs": [],
   "source": [
    "precip_2002_mm = np.array([27.178, 11.176, 38.1, 5.08, 81.28, 29.972, \n",
    "                          2.286, 36.576, 38.608, 61.976, 19.812, 0.508])"
   ]
  },
  {
   "cell_type": "code",
   "execution_count": 32,
   "id": "8f3fcf11",
   "metadata": {},
   "outputs": [],
   "source": [
    "def mean_mm_to_in_arr(arr_mm, axis_value = None):\n",
    "    \"\"\"Calculate mean values of input array and convert values from millimeters to inches. If an axis is specified, the mean will be calculate alsong that axis.\n",
    "    \n",
    "    Parameters\n",
    "    ----------\n",
    "     arr_mm: numpy array\n",
    "        numeric values in millimeters\n",
    "    axis_value: int (optional)\n",
    "        0 to calculate mean for each column\n",
    "        1 to calculate mean for each row\n",
    "    \n",
    "    Returns\n",
    "    -------\n",
    "    mean_arr_in: numpy array\n",
    "        mean values of input array in inches.\n",
    "    \"\"\"\n",
    "    if axis_value == None:\n",
    "        mean_arr_mm = np.mean(arr_mm)\n",
    "    else:\n",
    "        mean_arr_mm = np.mean(arr_mm, axis = axis_value)\n",
    "    mean_arr_in = mean_arr_mm/25.4\n",
    "    return mean_arr_in"
   ]
  },
  {
   "cell_type": "code",
   "execution_count": 38,
   "id": "3bbf187c",
   "metadata": {},
   "outputs": [],
   "source": [
    "import pandas as pd"
   ]
  },
  {
   "cell_type": "code",
   "execution_count": 36,
   "id": "bcc91014",
   "metadata": {},
   "outputs": [
    {
     "data": {
      "text/plain": [
       "array([0.67 , 0.785, 1.61 , 2.17 , 2.93 , 0.895, 0.56 , 1.42 , 9.84 ,\n",
       "       2.34 , 0.535, 0.26 ])"
      ]
     },
     "execution_count": 36,
     "metadata": {},
     "output_type": "execute_result"
    }
   ],
   "source": [
    "monthly_mean_in = mean_mm_to_in_arr(arr_mm = precip_2002_2013_mm, axis_value = 0)\n",
    "monthly_mean_in"
   ]
  },
  {
   "cell_type": "code",
   "execution_count": 33,
   "id": "ef717d8d",
   "metadata": {},
   "outputs": [
    {
     "data": {
      "text/plain": [
       "1.1566666666666667"
      ]
     },
     "execution_count": 33,
     "metadata": {},
     "output_type": "execute_result"
    }
   ],
   "source": [
    "monthly_mean_in = mean_mm_to_in_arr(arr_mm = precip_2002_mm)\n",
    "\n",
    "monthly_mean_in"
   ]
  },
  {
   "cell_type": "markdown",
   "id": "42d0fbc7",
   "metadata": {},
   "source": [
    "### Combine download and import of data files into one function"
   ]
  },
  {
   "cell_type": "code",
   "execution_count": 44,
   "id": "9782d84f",
   "metadata": {},
   "outputs": [],
   "source": [
    "def download_import_df(file_url, path):\n",
    "    '''Download file from specified URL and import file into a pandas dataframe from a specified path.\n",
    "    \n",
    "    Working directroy is set to earth-analytics directory under home, which is automatically created by the download.\n",
    "    \n",
    "    Parameters\n",
    "    ----------\n",
    "    file_url: str\n",
    "        URL to CSV file(http or https)\n",
    "    path: str\n",
    "        path to csv file using relative path to earth-analytics directory under home.\n",
    "        \n",
    "    Returns\n",
    "    -------\n",
    "    df: pandas dataframe\n",
    "        data imported from downloaded csv file. \n",
    "    '''\n",
    "    et.data.get_data(url = file_url)\n",
    "    os.chdir(os.path.join(et.io.HOME, 'earth-analytics'))\n",
    "    df = pd.read_csv(path)\n",
    "    \n",
    "    return df\n",
    "    "
   ]
  },
  {
   "cell_type": "code",
   "execution_count": 39,
   "id": "0baa3db0",
   "metadata": {},
   "outputs": [],
   "source": [
    "import os\n",
    "import pandas as pd\n",
    "import earthpy as et"
   ]
  },
  {
   "cell_type": "code",
   "execution_count": 46,
   "id": "6c9c9795",
   "metadata": {},
   "outputs": [],
   "source": [
    "precip_2002_2013_df_url = 'https://ndownloader.figshare.com/files/12710621'\n",
    "\n",
    "precip_2002_2013_df_path = os.path.join('data', 'earthpy-downloads', 'precip-2002-2013-months-seasons.csv')"
   ]
  },
  {
   "cell_type": "markdown",
   "id": "c4c8d5ba",
   "metadata": {},
   "source": [
    "precip_2002_2013_df = download_import_df(\n",
    "    file_url = precip_2002_2013_df_url, \n",
    "    path = precip_2002_2013_df_path)\n",
    "\n",
    "precip_2002_2013_df"
   ]
  },
  {
   "cell_type": "markdown",
   "id": "a4ed1f2f",
   "metadata": {},
   "source": [
    "### Making functions more efficient does not always mean more parameters"
   ]
  },
  {
   "cell_type": "code",
   "execution_count": 48,
   "id": "41646b88",
   "metadata": {},
   "outputs": [],
   "source": [
    "def download_import_df(file_url):\n",
    "    '''Download file from specified url and import file into a pandas dataframe.\n",
    "    The pat to the download file is automatically generated by the download and is passed to the pandas function to create a new dataframe.\n",
    "    \n",
    "    Parameters\n",
    "    ----------\n",
    "    file_url: str\n",
    "        url to csv file(http or https)\n",
    "        \n",
    "    Returns\n",
    "    -------\n",
    "    df: pandas dataframe\n",
    "        Dataframe imported from a downloaded csv file.\n",
    "    '''\n",
    "    \n",
    "    df = pd.read_csv(et.data.get_data(url = file_url))\n",
    "    return df"
   ]
  },
  {
   "cell_type": "code",
   "execution_count": 49,
   "id": "3f300483",
   "metadata": {},
   "outputs": [
    {
     "data": {
      "text/html": [
       "<div>\n",
       "<style scoped>\n",
       "    .dataframe tbody tr th:only-of-type {\n",
       "        vertical-align: middle;\n",
       "    }\n",
       "\n",
       "    .dataframe tbody tr th {\n",
       "        vertical-align: top;\n",
       "    }\n",
       "\n",
       "    .dataframe thead th {\n",
       "        text-align: right;\n",
       "    }\n",
       "</style>\n",
       "<table border=\"1\" class=\"dataframe\">\n",
       "  <thead>\n",
       "    <tr style=\"text-align: right;\">\n",
       "      <th></th>\n",
       "      <th>months</th>\n",
       "      <th>precip_2002</th>\n",
       "      <th>precip_2013</th>\n",
       "      <th>seasons</th>\n",
       "    </tr>\n",
       "  </thead>\n",
       "  <tbody>\n",
       "    <tr>\n",
       "      <th>0</th>\n",
       "      <td>Jan</td>\n",
       "      <td>1.07</td>\n",
       "      <td>0.27</td>\n",
       "      <td>Winter</td>\n",
       "    </tr>\n",
       "    <tr>\n",
       "      <th>1</th>\n",
       "      <td>Feb</td>\n",
       "      <td>0.44</td>\n",
       "      <td>1.13</td>\n",
       "      <td>Winter</td>\n",
       "    </tr>\n",
       "    <tr>\n",
       "      <th>2</th>\n",
       "      <td>Mar</td>\n",
       "      <td>1.50</td>\n",
       "      <td>1.72</td>\n",
       "      <td>Spring</td>\n",
       "    </tr>\n",
       "    <tr>\n",
       "      <th>3</th>\n",
       "      <td>Apr</td>\n",
       "      <td>0.20</td>\n",
       "      <td>4.14</td>\n",
       "      <td>Spring</td>\n",
       "    </tr>\n",
       "    <tr>\n",
       "      <th>4</th>\n",
       "      <td>May</td>\n",
       "      <td>3.20</td>\n",
       "      <td>2.66</td>\n",
       "      <td>Spring</td>\n",
       "    </tr>\n",
       "    <tr>\n",
       "      <th>5</th>\n",
       "      <td>June</td>\n",
       "      <td>1.18</td>\n",
       "      <td>0.61</td>\n",
       "      <td>Summer</td>\n",
       "    </tr>\n",
       "    <tr>\n",
       "      <th>6</th>\n",
       "      <td>July</td>\n",
       "      <td>0.09</td>\n",
       "      <td>1.03</td>\n",
       "      <td>Summer</td>\n",
       "    </tr>\n",
       "    <tr>\n",
       "      <th>7</th>\n",
       "      <td>Aug</td>\n",
       "      <td>1.44</td>\n",
       "      <td>1.40</td>\n",
       "      <td>Summer</td>\n",
       "    </tr>\n",
       "    <tr>\n",
       "      <th>8</th>\n",
       "      <td>Sept</td>\n",
       "      <td>1.52</td>\n",
       "      <td>18.16</td>\n",
       "      <td>Fall</td>\n",
       "    </tr>\n",
       "    <tr>\n",
       "      <th>9</th>\n",
       "      <td>Oct</td>\n",
       "      <td>2.44</td>\n",
       "      <td>2.24</td>\n",
       "      <td>Fall</td>\n",
       "    </tr>\n",
       "    <tr>\n",
       "      <th>10</th>\n",
       "      <td>Nov</td>\n",
       "      <td>0.78</td>\n",
       "      <td>0.29</td>\n",
       "      <td>Fall</td>\n",
       "    </tr>\n",
       "    <tr>\n",
       "      <th>11</th>\n",
       "      <td>Dec</td>\n",
       "      <td>0.02</td>\n",
       "      <td>0.50</td>\n",
       "      <td>Winter</td>\n",
       "    </tr>\n",
       "  </tbody>\n",
       "</table>\n",
       "</div>"
      ],
      "text/plain": [
       "   months  precip_2002  precip_2013 seasons\n",
       "0     Jan         1.07         0.27  Winter\n",
       "1     Feb         0.44         1.13  Winter\n",
       "2     Mar         1.50         1.72  Spring\n",
       "3     Apr         0.20         4.14  Spring\n",
       "4     May         3.20         2.66  Spring\n",
       "5    June         1.18         0.61  Summer\n",
       "6    July         0.09         1.03  Summer\n",
       "7     Aug         1.44         1.40  Summer\n",
       "8    Sept         1.52        18.16    Fall\n",
       "9     Oct         2.44         2.24    Fall\n",
       "10    Nov         0.78         0.29    Fall\n",
       "11    Dec         0.02         0.50  Winter"
      ]
     },
     "execution_count": 49,
     "metadata": {},
     "output_type": "execute_result"
    }
   ],
   "source": [
    "precip_2002_2013_df = download_import_df(\n",
    "    file_url = precip_2002_2013_df_url)\n",
    "precip_2002_2013_df"
   ]
  }
 ],
 "metadata": {
  "kernelspec": {
   "display_name": "Python 3 (ipykernel)",
   "language": "python",
   "name": "python3"
  },
  "language_info": {
   "codemirror_mode": {
    "name": "ipython",
    "version": 3
   },
   "file_extension": ".py",
   "mimetype": "text/x-python",
   "name": "python",
   "nbconvert_exporter": "python",
   "pygments_lexer": "ipython3",
   "version": "3.9.6"
  }
 },
 "nbformat": 4,
 "nbformat_minor": 5
}
