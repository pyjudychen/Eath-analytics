{
 "cells": [
  {
   "cell_type": "markdown",
   "metadata": {},
   "source": [
    "## Git and GitHub - A Distributed Version Control Model"
   ]
  },
  {
   "cell_type": "markdown",
   "metadata": {},
   "source": [
    "**Git** uses a distributed version control model. This means that there can be many copies (or forks/branches in **GitHub** world) of the repository. When working locally, **git** is the program that you will use to keep track of changes to your repository.\n",
    "\n",
    "[GitHub]('https://github.com/')is a location on the internet (a cloud web server) that acts as a remote location for your repository. **GitHub** provides a backup of your work that can be retrieved if your local copy is lost (e.g. if your computer falls off a pier). **GitHub** also allows you to share your work and collaborate with others on projects."
   ]
  },
  {
   "cell_type": "markdown",
   "metadata": {},
   "source": [
    "![Distributed version control system](https://www.earthdatascience.org/images/earth-analytics/git-version-control/git-distributed-version-control-model.png)"
   ]
  },
  {
   "cell_type": "markdown",
   "metadata": {},
   "source": [
    "## How Git and GitHub Support Version Control"
   ]
  },
  {
   "cell_type": "markdown",
   "metadata": {},
   "source": [
    "Due to the functionality that each tool provides, you can use **git** and **GitHub** together in the same workflow to:\n",
    "\n",
    "* Keep track of changes to your code locally using git.\n",
    "* Synchronizing code between different versions (i.e. either your own versions or others’ versions).\n",
    "* Test changes to code without losing the original.\n",
    "* Revert back to older version of code, if needed.\n",
    "* Back-up your files on the cloud ([GitHub.com]('https://github.com/')).\n",
    "* Share your files on GitHub.com and collaborate with others."
   ]
  }
 ],
 "metadata": {
  "kernelspec": {
   "display_name": "Python 3",
   "language": "python",
   "name": "python3"
  },
  "language_info": {
   "codemirror_mode": {
    "name": "ipython",
    "version": 3
   },
   "file_extension": ".py",
   "mimetype": "text/x-python",
   "name": "python",
   "nbconvert_exporter": "python",
   "pygments_lexer": "ipython3",
   "version": "3.8.5"
  }
 },
 "nbformat": 4,
 "nbformat_minor": 4
}
