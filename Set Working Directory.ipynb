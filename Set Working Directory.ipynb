{
 "cells": [
  {
   "cell_type": "code",
   "execution_count": 1,
   "id": "7d5edc18",
   "metadata": {},
   "outputs": [],
   "source": [
    "import os \n",
    "import earthpy as et"
   ]
  },
  {
   "cell_type": "markdown",
   "id": "79e83ee0",
   "metadata": {},
   "source": [
    "Paths are constructed differently on different operating systems. For example, the path to earth-analytics/data in the home directory that you examined in the previous lesson looks like this in Python:\n",
    "\n",
    "* /home/username/earth-analytics/data on Mac and Linux \n",
    "* C:\\\\Users\\\\username\\\\earth-analytics\\\\data on Windows"
   ]
  },
  {
   "cell_type": "markdown",
   "id": "9adbd96c",
   "metadata": {},
   "source": [
    "## Build Directory Paths that Work Across Oeprating System\n",
    "\n",
    "The path module within the os package contains a **join()** function that will create a path from a list of strings. When this function is run, it will adapt to the operating system that is calling Python.\n",
    "\n",
    "**os.path.join** takes as many strings as you provide it. It reads each string as a directory name (or file name) and then creates an output path by concatenating the input strings.\n",
    "\n",
    "You can check that a path exists using the **os.path.exists()** function. It returns a boolean value. "
   ]
  },
  {
   "cell_type": "code",
   "execution_count": 7,
   "id": "b99ba819",
   "metadata": {},
   "outputs": [
    {
     "data": {
      "text/plain": [
       "True"
      ]
     },
     "execution_count": 7,
     "metadata": {},
     "output_type": "execute_result"
    }
   ],
   "source": [
    "# Check whether a directory exist on your computer\n",
    "my_path = os.path.join('./data')\n",
    "\n",
    "# Boolean output (True/ False)\n",
    "os.path.exists(my_path)"
   ]
  },
  {
   "cell_type": "code",
   "execution_count": 6,
   "id": "475a2458",
   "metadata": {},
   "outputs": [
    {
     "data": {
      "text/plain": [
       "'C:\\\\Users\\\\user\\\\Documents\\\\Program Language\\\\Python\\\\earth-analytics'"
      ]
     },
     "execution_count": 6,
     "metadata": {},
     "output_type": "execute_result"
    }
   ],
   "source": [
    "# Check current working directory\n",
    "os.getcwd()"
   ]
  },
  {
   "cell_type": "code",
   "execution_count": 8,
   "id": "5e0fc1a8",
   "metadata": {
    "scrolled": true
   },
   "outputs": [
    {
     "data": {
      "text/plain": [
       "'C:\\\\Users\\\\user'"
      ]
     },
     "execution_count": 8,
     "metadata": {},
     "output_type": "execute_result"
    }
   ],
   "source": [
    "# Use earthpy HOME attribute to locate home directory\n",
    "et.io.HOME"
   ]
  },
  {
   "cell_type": "code",
   "execution_count": 10,
   "id": "4e9e28e5",
   "metadata": {
    "scrolled": true
   },
   "outputs": [
    {
     "data": {
      "text/plain": [
       "True"
      ]
     },
     "execution_count": 10,
     "metadata": {},
     "output_type": "execute_result"
    }
   ],
   "source": [
    "# Check if the home directory exists\n",
    "os.path.exists(et.io.HOME)"
   ]
  },
  {
   "cell_type": "code",
   "execution_count": 13,
   "id": "7e03e069",
   "metadata": {},
   "outputs": [],
   "source": [
    "# Construct a path to the earth-analytics directory in your HOME directory\n",
    "my_ea_path = os.path.join(et.io.HOME, 'earth-analytics')"
   ]
  },
  {
   "cell_type": "code",
   "execution_count": 14,
   "id": "3b7c036e",
   "metadata": {
    "scrolled": true
   },
   "outputs": [
    {
     "data": {
      "text/plain": [
       "True"
      ]
     },
     "execution_count": 14,
     "metadata": {},
     "output_type": "execute_result"
    }
   ],
   "source": [
    "os.path.exists(my_ea_path)"
   ]
  },
  {
   "cell_type": "markdown",
   "id": "32516d5a",
   "metadata": {},
   "source": [
    "## Set working directory to home/earth-analytics\n",
    "Set that project directory as your working directory in Python using the following syntax, which provides the output of os.path.join as input into the the os.chdir function:\n",
    "\n",
    "    os.chdir(os.path.join(et.io.HOME, 'earth-analytics'))\n",
    "\n",
    "Breaking the above commands down, you are doing the following.\n",
    "\n",
    "1. **os.chdir()**: remember from above that this function changes the working directory. However, you need to tell Python the path of the working directory that you want to use.\n",
    "2. **os.path.join()**: this function combines strings or path variables into a full path that will work on any operating system.\n",
    "3. **et.io.HOME**: this attribute provides the path for the home directory on your (or any) computer."
   ]
  },
  {
   "cell_type": "code",
   "execution_count": 17,
   "id": "c8370ceb",
   "metadata": {},
   "outputs": [
    {
     "data": {
      "text/plain": [
       "'C:\\\\Users\\\\user\\\\earth-analytics'"
      ]
     },
     "execution_count": 17,
     "metadata": {},
     "output_type": "execute_result"
    }
   ],
   "source": [
    "# Check current working directory\n",
    "os.getcwd()"
   ]
  },
  {
   "cell_type": "code",
   "execution_count": 18,
   "id": "e9160046",
   "metadata": {},
   "outputs": [
    {
     "data": {
      "text/plain": [
       "'C:\\\\Users\\\\user'"
      ]
     },
     "execution_count": 18,
     "metadata": {},
     "output_type": "execute_result"
    }
   ],
   "source": [
    "et.io.HOME"
   ]
  },
  {
   "cell_type": "code",
   "execution_count": 28,
   "id": "703dfa69",
   "metadata": {},
   "outputs": [],
   "source": [
    "my_path = os.path.join('C:/Users/user/Documents/Program Language/Python/earth-analytics')"
   ]
  },
  {
   "cell_type": "code",
   "execution_count": 29,
   "id": "635c878b",
   "metadata": {},
   "outputs": [
    {
     "data": {
      "text/plain": [
       "True"
      ]
     },
     "execution_count": 29,
     "metadata": {},
     "output_type": "execute_result"
    }
   ],
   "source": [
    "os.path.exists(my_path)"
   ]
  },
  {
   "cell_type": "code",
   "execution_count": 30,
   "id": "9535d02b",
   "metadata": {},
   "outputs": [],
   "source": [
    "# Change the directory to that path\n",
    "os.chdir(my_path)"
   ]
  },
  {
   "cell_type": "code",
   "execution_count": 31,
   "id": "72b29af3",
   "metadata": {
    "scrolled": true
   },
   "outputs": [
    {
     "data": {
      "text/plain": [
       "'C:\\\\Users\\\\user\\\\Documents\\\\Program Language\\\\Python\\\\earth-analytics'"
      ]
     },
     "execution_count": 31,
     "metadata": {},
     "output_type": "execute_result"
    }
   ],
   "source": [
    "os.getcwd()"
   ]
  }
 ],
 "metadata": {
  "kernelspec": {
   "display_name": "Python 3 (ipykernel)",
   "language": "python",
   "name": "python3"
  },
  "language_info": {
   "codemirror_mode": {
    "name": "ipython",
    "version": 3
   },
   "file_extension": ".py",
   "mimetype": "text/x-python",
   "name": "python",
   "nbconvert_exporter": "python",
   "pygments_lexer": "ipython3",
   "version": "3.9.6"
  }
 },
 "nbformat": 4,
 "nbformat_minor": 5
}
